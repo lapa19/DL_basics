{
  "nbformat": 4,
  "nbformat_minor": 0,
  "metadata": {
    "colab": {
      "provenance": [],
      "authorship_tag": "ABX9TyPZKnNK9ueRlYGucplPLhBJ",
      "include_colab_link": true
    },
    "kernelspec": {
      "name": "python3",
      "display_name": "Python 3"
    },
    "language_info": {
      "name": "python"
    }
  },
  "cells": [
    {
      "cell_type": "markdown",
      "metadata": {
        "id": "view-in-github",
        "colab_type": "text"
      },
      "source": [
        "<a href=\"https://colab.research.google.com/github/lapa19/DL_basics/blob/main/DecisionTree.ipynb\" target=\"_parent\"><img src=\"https://colab.research.google.com/assets/colab-badge.svg\" alt=\"Open In Colab\"/></a>"
      ]
    },
    {
      "cell_type": "code",
      "execution_count": null,
      "metadata": {
        "id": "602BKYOxdk_w"
      },
      "outputs": [],
      "source": [
        "class DecisionTree:\n",
        "    def __init__(self, min_samples_split = 2, max_depth=None):\n",
        "      self.max_depth = max_depth\n",
        "      self.min_samples_split = min_samples_split\n",
        "\n",
        "    def fit(self, X, y):\n",
        "      self.tree_ = self._build_tree(X, y)\n",
        "\n",
        "    def _build_tree(self, X, y, depth=0):\n",
        "      if depth == self.max_depth:\n",
        "        return\n",
        "      best_feature, best_threshold = self._find_best_split(X, y)\n",
        "      if best_feature is None:\n",
        "        return\n",
        "      tree = {'feature': best_feature, 'threshold': best_threshold}\n",
        "      left_indices = X[:, best_feature] < best_threshold\n",
        "      right_indices = ~left_indices\n",
        "      tree['left'] = self._build_tree(X[left_indices], y[left_indices], depth+1)\n",
        "      tree['right'] = self._build_tree(X[right_indices], y[right_indices], depth+1)\n",
        "      return tree\n",
        "\n",
        "    def _find_best_split(self, X, y):\n",
        "      best_feature, best_threshold = None, None\n",
        "      for feature in range(X.shape[1]):\n",
        "        thresholds = np.unique(X[:, feature])\n",
        "        for threshold in thresholds:\n",
        "          left_indices = X[:, feature] < threshold\n",
        "          right_indices = ~left_indices\n",
        "          if np.sum(left_indices) < self.min_samples_split or np.sum(right_indices) < self.min_samples_split:\n",
        "            continue\n",
        "          left_gini = self._gini(y[left_indices])\n",
        "          right_gini = self._gini(y[right_indices])\n",
        "          weighted_gini = (np.sum(left_indices) * left_gini + np.sum(right_indices) * right_gini) / len(y)\n",
        "          if weighted_gini < best_gini:\n",
        "            best_gini, best_feature, best_threshold = weighted_gini, feature, threshold\n",
        "      return best_feature, best_threshold\n",
        "\n",
        "    def _gini(self, y):\n",
        "      _, counts = np.unique(y, return_counts=True)\n",
        "      probabilities = counts / len(y)\n",
        "      return 1 - np.sum(probabilities**2)\n",
        "\n",
        "    def predict(self, X):\n",
        "      return np.array([self._traverse_tree(x, self.tree_) for x in X])\n",
        "\n",
        "    def _traverse_tree(self, x, tree):\n",
        "      if 'value' in tree:\n",
        "        return tree['value']\n",
        "      feature, threshold = tree['feature'], tree['threshold']\n",
        "      if x[feature] < threshold:\n",
        "        return self._traverse_tree(x, tree['left'])\n",
        "      else:\n",
        "        return self._traverse_tree(x, tree['right'])\n"
      ]
    }
  ]
}